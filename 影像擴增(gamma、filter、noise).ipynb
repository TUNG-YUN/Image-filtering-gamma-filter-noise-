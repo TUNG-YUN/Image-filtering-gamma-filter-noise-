{
 "cells": [
  {
   "cell_type": "code",
   "execution_count": null,
   "id": "58735005-a33d-4dfc-aae4-e5daaf071c1e",
   "metadata": {},
   "outputs": [],
   "source": [
    "pip install opencv-python"
   ]
  },
  {
   "cell_type": "markdown",
   "id": "7e682bc3-34b1-4948-a306-3e95c52a80fa",
   "metadata": {},
   "source": [
    "影像負片"
   ]
  },
  {
   "cell_type": "code",
   "execution_count": 2,
   "id": "7617eb0c-78d4-4156-a1a1-c2fd41473254",
   "metadata": {},
   "outputs": [
    {
     "ename": "ModuleNotFoundError",
     "evalue": "No module named 'cv2'",
     "output_type": "error",
     "traceback": [
      "\u001b[1;31m---------------------------------------------------------------------------\u001b[0m",
      "\u001b[1;31mModuleNotFoundError\u001b[0m                       Traceback (most recent call last)",
      "Cell \u001b[1;32mIn[2], line 2\u001b[0m\n\u001b[0;32m      1\u001b[0m \u001b[38;5;28;01mimport\u001b[39;00m \u001b[38;5;21;01mnumpy\u001b[39;00m \u001b[38;5;28;01mas\u001b[39;00m \u001b[38;5;21;01mnp\u001b[39;00m \n\u001b[1;32m----> 2\u001b[0m \u001b[38;5;28;01mimport\u001b[39;00m \u001b[38;5;21;01mcv2\u001b[39;00m\n\u001b[0;32m      4\u001b[0m \u001b[38;5;28;01mdef\u001b[39;00m \u001b[38;5;21mimage_negative\u001b[39m(f):\n\u001b[0;32m      5\u001b[0m     g \u001b[38;5;241m=\u001b[39m \u001b[38;5;241m255\u001b[39m \u001b[38;5;241m-\u001b[39m f\n",
      "\u001b[1;31mModuleNotFoundError\u001b[0m: No module named 'cv2'"
     ]
    }
   ],
   "source": [
    "import numpy as np \n",
    "import cv2\n",
    "\n",
    "def image_negative(f):\n",
    "    g = 255 - f\n",
    "    return g\n",
    "\n",
    "def main():\n",
    "    img1 = cv2.imread('C:/Users/Rebecca/Desktop/Test/9753907_0805151342_I00061071625.jpg',-1)\n",
    "    img2 = image_negative(img1)\n",
    "    cv2.imshow('Original',img1)\n",
    "    cv2.imwrite('C:/Users/Rebecca/Desktop/Test1/go.jpg',img2)\n",
    "    #cv2.imshow('Image Negative',img2)\n",
    "    cv2.waitKey(0)\n",
    "main()\n",
    "    "
   ]
  },
  {
   "attachments": {},
   "cell_type": "markdown",
   "id": "500d553f-68d0-4517-ba44-8d9978c70ace",
   "metadata": {},
   "source": [
    "伽瑪矯正\n"
   ]
  },
  {
   "cell_type": "code",
   "execution_count": 12,
   "id": "3aad1f6f-ce14-4694-a75f-4eb5efda6a1c",
   "metadata": {},
   "outputs": [],
   "source": [
    "import numpy as np \n",
    "import cv2\n",
    "\n",
    "def gamma_correction(f,gamma=2.0):\n",
    "    g = f.copy()\n",
    "    nr,nc = f.shape[:2]\n",
    "    c = 255.0 / (255.0 ** gamma)\n",
    "    table = np.zeros(256)\n",
    "    for i in range(256):\n",
    "        table[i] = round(i ** gamma *c,0)\n",
    "    if f.ndim !=3:\n",
    "        for x in range(nr):\n",
    "            for y in range(nc):\n",
    "                g[x,y] = table[f[x,y]]\n",
    "    else:\n",
    "        for x in range(nr):\n",
    "            for y in range(nc):\n",
    "                for k in range(3):\n",
    "                    g[x,y,k] = table[f[x,y,k]]\n",
    "    return g\n",
    "\n",
    "def main():\n",
    "    img = cv2.imread('C:/Users/Rebecca/Desktop/Test/9753907_0805151342_I00061071625.jpg',-1) # 如果-1改成0會印出灰色的\n",
    "    img1 = gamma_correction(img,0.1)\n",
    "    img2 = gamma_correction(img,0.2)\n",
    "    img3 = gamma_correction(img,0.5)\n",
    "    cv2.imwrite('C:/Users/Rebecca/Desktop/Test1/Gamma=0.1.jpg',img1)\n",
    "    cv2.imwrite('C:/Users/Rebecca/Desktop/Test1/Gamma=0.2.jpg',img2)\n",
    "    cv2.imwrite('C:/Users/Rebecca/Desktop/Test1/Gamma=0.5.jpg',img3)\n",
    "    #cv2.imshow('Original Image', img)\n",
    "    #cv2.imshow('Gamma=0.1',img1)\n",
    "    #cv2.imshow('Gamma=0.2',img2)\n",
    "    #cv2.imshow('Gamma=0.5',img3)\n",
    "    #cv2.waitKey(0)\n",
    "main()"
   ]
  },
  {
   "cell_type": "markdown",
   "id": "d48d3701-1a0a-4de8-b1f6-b572bcf5884f",
   "metadata": {},
   "source": [
    "Beta 矯正"
   ]
  },
  {
   "cell_type": "code",
   "execution_count": 1,
   "id": "705de893-b66d-44a8-b20e-c993a428f8e7",
   "metadata": {},
   "outputs": [
    {
     "ename": "ModuleNotFoundError",
     "evalue": "No module named 'cv2'",
     "output_type": "error",
     "traceback": [
      "\u001b[1;31m---------------------------------------------------------------------------\u001b[0m",
      "\u001b[1;31mModuleNotFoundError\u001b[0m                       Traceback (most recent call last)",
      "Cell \u001b[1;32mIn[1], line 2\u001b[0m\n\u001b[0;32m      1\u001b[0m \u001b[38;5;28;01mimport\u001b[39;00m \u001b[38;5;21;01mnumpy\u001b[39;00m \u001b[38;5;28;01mas\u001b[39;00m \u001b[38;5;21;01mnp\u001b[39;00m \n\u001b[1;32m----> 2\u001b[0m \u001b[38;5;28;01mimport\u001b[39;00m \u001b[38;5;21;01mcv2\u001b[39;00m\n\u001b[0;32m      3\u001b[0m \u001b[38;5;28;01mimport\u001b[39;00m \u001b[38;5;21;01mscipy\u001b[39;00m\u001b[38;5;21;01m.\u001b[39;00m\u001b[38;5;21;01mspecial\u001b[39;00m \u001b[38;5;28;01mas\u001b[39;00m \u001b[38;5;21;01mspecial\u001b[39;00m\n\u001b[0;32m      5\u001b[0m \u001b[38;5;28;01mdef\u001b[39;00m \u001b[38;5;21mbeta_correction\u001b[39m(f,a\u001b[38;5;241m=\u001b[39m\u001b[38;5;241m2.0\u001b[39m,b\u001b[38;5;241m=\u001b[39m\u001b[38;5;241m2.0\u001b[39m):\n",
      "\u001b[1;31mModuleNotFoundError\u001b[0m: No module named 'cv2'"
     ]
    }
   ],
   "source": [
    "import numpy as np \n",
    "import cv2\n",
    "import scipy.special as special\n",
    "\n",
    "def beta_correction(f,a=2.0,b=2.0):\n",
    "    g = f.copy()\n",
    "    nr,nc = f.shape[:2]\n",
    "    x = np.linspace(0,1,256)\n",
    "    table = np.round(special.betainc(a,b,x)*255,0)\n",
    "    if f.ndim !=3:\n",
    "        for x in range(nr):\n",
    "            for y in range(nc):\n",
    "                g[x,y] = table[f[x,y]]\n",
    "    else:\n",
    "        for x in range(nr):\n",
    "            for y in range(nc):\n",
    "                for k in range(3):\n",
    "                    g[x,y,k] = table[f[x,y,k]]\n",
    "    return g\n",
    "\n",
    "def main():\n",
    "    img = cv2.imread('C:/Users/Rebecca/Desktop/Test/9753907_0805151342_I00061071625.jpg',-1)\n",
    "    img1 = beta_correction(img, a = 0.5, b = 0.5)\n",
    "    img2 = beta_correction(img, a = 2.0, b = 2.0)\n",
    "    cv2.imwrite('C:/Users/Rebecca/Desktop/Test1/Beta Correction(a=b=0.5).jpg',img1)\n",
    "    cv2.imwrite('C:/Users/Rebecca/Desktop/Test1/Beta Correction(a=b=2.0).jpg',img2)\n",
    "    #cv2.imshow(\"Original Image\", img)\n",
    "    #cv2.imshow(\"Beta Correction(a=b=0.5)\",img1)\n",
    "    #cv2.imshow(\"Beta Correction(a=b=2.0)\",img2)\n",
    "    cv2.waitKey(0)\n",
    "\n",
    "main()"
   ]
  },
  {
   "cell_type": "markdown",
   "id": "c2cbc2ff-c0ee-4816-a38d-cc6f50482578",
   "metadata": {},
   "source": [
    "影像卷積"
   ]
  },
  {
   "cell_type": "code",
   "execution_count": 18,
   "id": "e87995dd-2b2f-46ce-8e6e-e6c7708d4cef",
   "metadata": {},
   "outputs": [
    {
     "name": "stdout",
     "output_type": "stream",
     "text": [
      "x= [1 2 4 3 2 1 1]\n",
      "h= [1 2 3 1 1]\n",
      "Full Convolution y= [ 1  4 11 18 23 20 16 10  6  2  1]\n",
      "Convolution y= [11 18 23 20 16 10  6]\n"
     ]
    }
   ],
   "source": [
    "import numpy as np \n",
    "\n",
    "x = np.array([1,2,4,3,2,1,1])\n",
    "h = np.array([1,2,3,1,1])\n",
    "y = np.convolve(x,h,\"full\")\n",
    "y1 = np.convolve(x,h,\"same\")\n",
    "print(\"x=\",x)\n",
    "print(\"h=\",h)\n",
    "print(\"Full Convolution y=\",y)\n",
    "print(\"Convolution y=\",y1)"
   ]
  },
  {
   "cell_type": "markdown",
   "id": "573599a2-e52a-48c7-9060-6b166ec46b86",
   "metadata": {},
   "source": [
    "平均濾波(Average Filtering)"
   ]
  },
  {
   "cell_type": "code",
   "execution_count": 32,
   "id": "1583a49b-1efd-400b-bbf5-637135e4aa7c",
   "metadata": {},
   "outputs": [
    {
     "data": {
      "text/plain": [
       "-1"
      ]
     },
     "execution_count": 32,
     "metadata": {},
     "output_type": "execute_result"
    }
   ],
   "source": [
    "import numpy as np \n",
    "import cv2\n",
    "\n",
    "img1 = cv2.imread('C:/Users/Rebecca/Desktop/Test/9753907_0805151342_I00061071625.jpg',-1)\n",
    "img2 = cv2.blur(img1,(5,5))\n",
    "img3 = cv2.blur(img1,(11,11))\n",
    "cv2.imwrite('C:/Users/Rebecca/Desktop/Test1/Average Filtering5.jpg',img2)\n",
    "cv2.imwrite('C:/Users/Rebecca/Desktop/Test1/Average Filtering11.jpg',img3)\n",
    "#cv2.imshow(\"Original Image\", img1)\n",
    "#cv2.imshow(\"Average Filtering5*5\", img2)\n",
    "#cv2.imshow(\"Average Filtering11*11\", img3)\n",
    "cv2.waitKey(0)"
   ]
  },
  {
   "cell_type": "markdown",
   "id": "c14b877e-79c8-4b59-8052-d5d598563e1d",
   "metadata": {},
   "source": [
    "高斯濾波(Gaussian filtering)"
   ]
  },
  {
   "cell_type": "code",
   "execution_count": 3,
   "id": "55b11312-4e31-4859-b90c-23ec8d32df27",
   "metadata": {},
   "outputs": [
    {
     "data": {
      "text/plain": [
       "-1"
      ]
     },
     "execution_count": 3,
     "metadata": {},
     "output_type": "execute_result"
    }
   ],
   "source": [
    "import numpy as np \n",
    "import cv2\n",
    "\n",
    "img = cv2.imread('C:/Users/Rebecca/Desktop/Test/9753907_0805151342_I00061071625.jpg',-1)\n",
    "img1 = cv2.GaussianBlur(img,(3,3),0)\n",
    "img2 = cv2.GaussianBlur(img,(5,5),0)\n",
    "img3 = cv2.GaussianBlur(img,(21,21),0)\n",
    "\n",
    "#cv2.imwrite('C:/Users/Rebecca/Desktop/Test1/Gaussian Filtering5.jpg',img1)\n",
    "#cv2.imwrite('C:/Users/Rebecca/Desktop/Test1/Gaussian Filtering11.jpg',img2)\n",
    "#cv2.imwrite('C:/Users/Rebecca/Desktop/Test1/Gaussian Filtering21.jpg',img3)\n",
    "cv2.imshow(\"Original Image\",img)\n",
    "cv2.imshow(\"Gaussian Filtering\",img1)\n",
    "cv2.imshow(\"Gaussian Filtering1\",img2)\n",
    "cv2.imshow(\"Gaussian Filtering2\",img3)\n",
    "cv2.waitKey(0)"
   ]
  },
  {
   "cell_type": "markdown",
   "id": "5c431d9b-fcc1-46e8-8ee5-cab67f4b19f2",
   "metadata": {},
   "source": [
    "影像銳化"
   ]
  },
  {
   "cell_type": "code",
   "execution_count": 40,
   "id": "5b79d664-5c0e-44e7-b26f-a3d2adbf0a93",
   "metadata": {},
   "outputs": [
    {
     "ename": "NameError",
     "evalue": "name 'CV_32F' is not defined",
     "output_type": "error",
     "traceback": [
      "\u001b[1;31m---------------------------------------------------------------------------\u001b[0m",
      "\u001b[1;31mNameError\u001b[0m                                 Traceback (most recent call last)",
      "Cell \u001b[1;32mIn[40], line 15\u001b[0m\n\u001b[0;32m     13\u001b[0m     cv2\u001b[38;5;241m.\u001b[39mimshow(\u001b[38;5;124m\"\u001b[39m\u001b[38;5;124mLaplacian\u001b[39m\u001b[38;5;124m\"\u001b[39m,img1)\n\u001b[0;32m     14\u001b[0m     cv2\u001b[38;5;241m.\u001b[39mwaitKey(\u001b[38;5;241m0\u001b[39m)\n\u001b[1;32m---> 15\u001b[0m \u001b[43mmain\u001b[49m\u001b[43m(\u001b[49m\u001b[43m)\u001b[49m\n",
      "Cell \u001b[1;32mIn[40], line 11\u001b[0m, in \u001b[0;36mmain\u001b[1;34m()\u001b[0m\n\u001b[0;32m      9\u001b[0m \u001b[38;5;28;01mdef\u001b[39;00m \u001b[38;5;21mmain\u001b[39m():\n\u001b[0;32m     10\u001b[0m     img \u001b[38;5;241m=\u001b[39m cv2\u001b[38;5;241m.\u001b[39mimread(\u001b[38;5;124m'\u001b[39m\u001b[38;5;124mC:/Users/Rebecca/Desktop/Test/9753907_0805151342_I00061071625.jpg\u001b[39m\u001b[38;5;124m'\u001b[39m,\u001b[38;5;241m-\u001b[39m\u001b[38;5;241m1\u001b[39m)\n\u001b[1;32m---> 11\u001b[0m     img1 \u001b[38;5;241m=\u001b[39m \u001b[43mlaplacian\u001b[49m\u001b[43m(\u001b[49m\u001b[43mimg\u001b[49m\u001b[43m)\u001b[49m\n\u001b[0;32m     12\u001b[0m     cv2\u001b[38;5;241m.\u001b[39mimshow(\u001b[38;5;124m\"\u001b[39m\u001b[38;5;124mOriginal Image\u001b[39m\u001b[38;5;124m\"\u001b[39m,img)\n\u001b[0;32m     13\u001b[0m     cv2\u001b[38;5;241m.\u001b[39mimshow(\u001b[38;5;124m\"\u001b[39m\u001b[38;5;124mLaplacian\u001b[39m\u001b[38;5;124m\"\u001b[39m,img1)\n",
      "Cell \u001b[1;32mIn[40], line 5\u001b[0m, in \u001b[0;36mlaplacian\u001b[1;34m(f)\u001b[0m\n\u001b[0;32m      4\u001b[0m \u001b[38;5;28;01mdef\u001b[39;00m \u001b[38;5;21mlaplacian\u001b[39m(f):\n\u001b[1;32m----> 5\u001b[0m     temp \u001b[38;5;241m=\u001b[39m cv2\u001b[38;5;241m.\u001b[39mLaplacian(f,cv2,\u001b[43mCV_32F\u001b[49m)\u001b[38;5;241m+\u001b[39m\u001b[38;5;241m128\u001b[39m\n\u001b[0;32m      6\u001b[0m     g \u001b[38;5;241m=\u001b[39m np\u001b[38;5;241m.\u001b[39muint8(np\u001b[38;5;241m.\u001b[39mclip(temp,\u001b[38;5;241m0\u001b[39m,\u001b[38;5;241m255\u001b[39m))\n\u001b[0;32m      7\u001b[0m     \u001b[38;5;28;01mreturn\u001b[39;00m g\n",
      "\u001b[1;31mNameError\u001b[0m: name 'CV_32F' is not defined"
     ]
    }
   ],
   "source": [
    "import numpy as np\n",
    "import cv2\n",
    "\n",
    "def laplacian(f):\n",
    "    temp = cv2.Laplacian(f,cv2,CV_32F)+128\n",
    "    g = np.uint8(np.clip(temp,0,255))\n",
    "    return g\n",
    "\n",
    "def main():\n",
    "    img = cv2.imread('C:/Users/Rebecca/Desktop/Test/9753907_0805151342_I00061071625.jpg',-1)\n",
    "    img1 = laplacian(img)\n",
    "    cv2.imshow(\"Original Image\",img)\n",
    "    cv2.imshow(\"Laplacian\",img1)\n",
    "    cv2.waitKey(0)\n",
    "main()"
   ]
  },
  {
   "cell_type": "markdown",
   "id": "2d84d934-411f-4a52-a83d-31a463d4b324",
   "metadata": {},
   "source": [
    "雙邊濾波"
   ]
  },
  {
   "cell_type": "code",
   "execution_count": 45,
   "id": "d7018898-692c-4ac2-bdb2-4286c0b24a46",
   "metadata": {},
   "outputs": [
    {
     "data": {
      "text/plain": [
       "-1"
      ]
     },
     "execution_count": 45,
     "metadata": {},
     "output_type": "execute_result"
    }
   ],
   "source": [
    "import numpy as np \n",
    "import cv2\n",
    "\n",
    "img = cv2.imread('C:/Users/Rebecca/Desktop/Test/9753907_0805151342_I00061071625.jpg',-1)\n",
    "img1 = cv2.bilateralFilter(img,10,100,100)\n",
    "cv2.imwrite('C:/Users/Rebecca/Desktop/Test1/Bilateral Filtering.jpg',img1)\n",
    "#cv2.imshow(\"Original Image\",img)\n",
    "#cv2.imshow(\"Bilateral Filtering\", img1)\n",
    "cv2.waitKey(0)"
   ]
  },
  {
   "cell_type": "markdown",
   "id": "b3559b35-5cf4-4f07-9913-4ad9abc240f8",
   "metadata": {},
   "source": [
    "高斯雜訊 \n",
    "scale常见的尺度参数数值可能在 10 到 50 之间"
   ]
  },
  {
   "cell_type": "code",
   "execution_count": 50,
   "id": "033ce078-c9f8-49e3-a618-2953b8487470",
   "metadata": {},
   "outputs": [],
   "source": [
    "import numpy as np \n",
    "import cv2\n",
    "from numpy.random import uniform, normal, exponential, rayleigh\n",
    "\n",
    "def gaussian_noise(f,scale):\n",
    "    g = f.copy()\n",
    "    nr,nc = f.shape[:2]\n",
    "    for x in range(nr):\n",
    "        for y in range(nc):\n",
    "            value = f[x,y] + normal(0,scale)\n",
    "            g[x,y]= np.uint8(np.clip(value,0,255))\n",
    "    return g\n",
    "\n",
    "def main():\n",
    "    img = cv2.imread('C:/Users/Rebecca/Desktop/Test/9753907_0805151342_I00061071625.jpg',-1)\n",
    "    img1 = gaussian_noise(img,10)\n",
    "    img2 = gaussian_noise(img,30)\n",
    "    img3 = gaussian_noise(img,50)\n",
    "    cv2.imwrite('C:/Users/Rebecca/Desktop/Test1/gaussian_noise10.jpg',img1)\n",
    "    cv2.imwrite('C:/Users/Rebecca/Desktop/Test1/gaussian_noise30.jpg',img2)\n",
    "    cv2.imwrite('C:/Users/Rebecca/Desktop/Test1/gaussian_noise50.jpg',img3)\n",
    "    #cv2.imshow(\"Original Image\",img)\n",
    "    #cv2.imshow(\"gaussian_noise10\",img1)\n",
    "    #cv2.imshow(\"gaussian_noise30\",img2)\n",
    "    #cv2.imshow(\"gaussian_noise50\",img3)\n",
    "    cv2.waitKey(0)\n",
    "main()"
   ]
  },
  {
   "cell_type": "markdown",
   "id": "5f32cedf-7aa9-43f5-8870-14f9eef68d06",
   "metadata": {},
   "source": [
    "指數雜訊\n",
    "scale一般来说，尺度参数的值可以是一个正数，表示指数分布的尺度参数。常见的尺度参数数值可能在 0 到 1 之间，但具体的选择应该根据你的具体需求和实验结果来确定\n",
    "1. 弱噪音 0.1-0.3\n",
    "2. 中等噪音 0.3-0.5\n",
    "3. 強噪音 0.5-1"
   ]
  },
  {
   "cell_type": "code",
   "execution_count": 76,
   "id": "4bc6482b-9ee5-4c60-8f65-f5aa47b68756",
   "metadata": {},
   "outputs": [],
   "source": [
    "import numpy as np \n",
    "import cv2\n",
    "from numpy.random import uniform, normal, exponential, rayleigh\n",
    "\n",
    "def exponential_noise(f,scale):\n",
    "    g = f.copy()\n",
    "    nr,nc = f.shape[:2]\n",
    "    for x in range(nr):\n",
    "        for y in range(nc):\n",
    "            value = f[x,y] + exponential(scale)\n",
    "            g[x,y]= np.uint8(np.clip(value,0,255))\n",
    "    return g\n",
    "\n",
    "def main():\n",
    "    img = cv2.imread('C:/Users/Rebecca/Desktop/Test/9753907_0805151342_I00061071625.jpg',-1)\n",
    "    img1 = exponential_noise(img,0.2)\n",
    "    img2 = exponential_noise(img,1)\n",
    "    cv2.imwrite('C:/Users/Rebecca/Desktop/Test1/exponential_noise0.2.jpg',img1)\n",
    "    cv2.imwrite('C:/Users/Rebecca/Desktop/Test1/exponential_noise1.jpg',img2)\n",
    "    #cv2.imwrite('C:/Users/Rebecca/Desktop/Test1/gaussian_noise50.jpg',img3)\n",
    "   # cv2.imshow(\"Original Image\",img)\n",
    "    #cv2.imshow(\"exponential_noise0.2\",img1)\n",
    "    #cv2.imshow(\"exponential_noise1\",img2)\n",
    "\n",
    "    cv2.waitKey(0)\n",
    "main()"
   ]
  },
  {
   "cell_type": "markdown",
   "id": "491dbffb-32f8-4cab-bf59-6dfbd0ca1959",
   "metadata": {},
   "source": [
    "雷訊雜訊"
   ]
  },
  {
   "cell_type": "code",
   "execution_count": 62,
   "id": "61789436-b53e-4601-859e-eab24b3d4ef9",
   "metadata": {},
   "outputs": [],
   "source": [
    "import numpy as np \n",
    "import cv2\n",
    "from numpy.random import uniform, normal, exponential, rayleigh\n",
    "\n",
    "def rayleigh_noise(f,scale):\n",
    "    g = f.copy()\n",
    "    nr,nc = f.shape[:2]\n",
    "    for x in range(nr):\n",
    "        for y in range(nc):\n",
    "            value = f[x,y] + rayleigh(scale)\n",
    "            g[x,y]= np.uint8(np.clip(value,0,255))\n",
    "    return g\n",
    "\n",
    "def main():\n",
    "    img = cv2.imread('C:/Users/Rebecca/Desktop/Test/9753907_0805151342_I00061071625.jpg',-1)\n",
    "    img1 = rayleigh_noise(img,30)\n",
    "    img2 = rayleigh_noise(img,50)\n",
    "    cv2.imwrite('C:/Users/Rebecca/Desktop/Test1/rayleigh_noise30.jpg',img1)\n",
    "    cv2.imwrite('C:/Users/Rebecca/Desktop/Test1/rayleigh_noise50.jpg',img2)\n",
    "   \n",
    "   # cv2.imshow(\"Original Image\",img)\n",
    "    #cv2.imshow(\"rayleigh_noise30\",img1)\n",
    "   # cv2.imshow(\"rayleigh_noise50\",img2)\n",
    "    cv2.waitKey(0)\n",
    "main()"
   ]
  },
  {
   "cell_type": "markdown",
   "id": "e1ab6d12-fa98-40c1-b412-de724cff6bce",
   "metadata": {},
   "source": [
    "鹽與胡椒雜訊\n",
    "probability通常情况下，probability 参数的取值范围在 0 到 1 之间，表示噪声像素占总像素数的比例。具体的取值应根据具体需求和实验结果来确定。"
   ]
  },
  {
   "cell_type": "code",
   "execution_count": 73,
   "id": "ce45c335-b09e-4d30-b7b2-9d8ca63a460e",
   "metadata": {},
   "outputs": [],
   "source": [
    "import numpy as np \n",
    "import cv2\n",
    "from numpy.random import uniform, normal, exponential, rayleigh\n",
    "\n",
    "def salt_pepper_noise(f,probability):\n",
    "    g = f.copy()\n",
    "    nr,nc = f.shape[:2]\n",
    "    for x in range(nr):\n",
    "        for y in range(nc):\n",
    "            value = uniform(0,1)\n",
    "            if value > 0 and value <= probability / 2 :\n",
    "                g[x,y] = 0\n",
    "            elif value > probability / 2 and value <= probability:\n",
    "                g[x,y] = 255\n",
    "            else :\n",
    "                g[x,y] = f[x,y]\n",
    "    return g\n",
    "            \n",
    "\n",
    "def main():\n",
    "    img = cv2.imread('C:/Users/Rebecca/Desktop/Test/9753907_0805151342_I00061071625.jpg',-1)\n",
    "    img1 = salt_pepper_noise(img,0.25)\n",
    "    img2 = salt_pepper_noise(img,0.4)\n",
    "    #cv2.imwrite('C:/Users/Rebecca/Desktop/Test1/rayleigh_noise30.jpg',img1)\n",
    "    #cv2.imwrite('C:/Users/Rebecca/Desktop/Test1/rayleigh_noise50.jpg',img2)\n",
    "   \n",
    "    #cv2.imshow(\"Original Image\",img)\n",
    "    #cv2.imshow(\"salt_pepper_noise0.25\",img1)\n",
    "    #cv2.imshow(\"salt_pepper_noise0.4\",img2)\n",
    "    cv2.imwrite('C:/Users/Rebecca/Desktop/Test1/salt_pepper_noise0.25.jpg',img1)\n",
    "    cv2.imwrite('C:/Users/Rebecca/Desktop/Test1/salt_pepper_noise0.4.jpg',img2)\n",
    "    cv2.waitKey(0)\n",
    "main()"
   ]
  },
  {
   "cell_type": "code",
   "execution_count": null,
   "id": "9b16f005-6c2d-4ad0-8056-5d6b2d7036af",
   "metadata": {},
   "outputs": [],
   "source": []
  }
 ],
 "metadata": {
  "kernelspec": {
   "display_name": "Python 3 (ipykernel)",
   "language": "python",
   "name": "python3"
  },
  "language_info": {
   "codemirror_mode": {
    "name": "ipython",
    "version": 3
   },
   "file_extension": ".py",
   "mimetype": "text/x-python",
   "name": "python",
   "nbconvert_exporter": "python",
   "pygments_lexer": "ipython3",
   "version": "3.10.13"
  }
 },
 "nbformat": 4,
 "nbformat_minor": 5
}
